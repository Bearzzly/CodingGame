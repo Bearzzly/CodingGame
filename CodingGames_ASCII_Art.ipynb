{
  "cells": [
    {
      "attachments": {},
      "cell_type": "markdown",
      "metadata": {},
      "source": [
        "Ascii Art : https://www.codingame.com/training/easy/ascii-art\n",
        "By  Bearzly"
      ]
    },
    {
      "cell_type": "code",
      "execution_count": null,
      "metadata": {
        "id": "9DBbl2OY2ShX"
      },
      "outputs": [],
      "source": [
        "#Validate\n",
        "import sys\n",
        "import math\n",
        "\n",
        "l = int(input())\n",
        "h = int(input())\n",
        "t = input()\n",
        "text = t.lower() #text to lowercase so not disturbed by upper/lower case\n",
        "\n",
        "alpha=[] #get AsciiArt, all letters in a table *26, each box its letter\n",
        "for stage in range(h):\n",
        "    row = input()\n",
        "    alpha.append([row[i:i+l] for i in range(0, len(row), l)]) #traverses the line and the cut according to the sizes of the letters\n",
        "\n",
        "#creates a line for each floor based on \"alpha\" and prints them\n",
        "for i in range(h):\n",
        "    ligne = \"\"\n",
        "    for e in text:\n",
        "        base = ord(e)-97 #-97 > a = 0\n",
        "        if base > 25 or base < 0 : #not a letter = print \"?\"\n",
        "            ligne+=alpha[i][26]\n",
        "        else :\n",
        "            ligne+= alpha[i][base]\n",
        "    print(ligne)\n",
        "\n",
        "#my first idea was to dynamically look for my letters in the list\n",
        "#knowing that I have to go through it at least once, I might as well make a double-entry table that will contain all the separate letters\n",
        "#I always only pass once and I keep the address of each letter\n",
        "#less iteration = faster"
      ]
    }
  ],
  "metadata": {
    "colab": {
      "provenance": []
    },
    "kernelspec": {
      "display_name": "Python 3",
      "name": "python3"
    },
    "language_info": {
      "name": "python"
    }
  },
  "nbformat": 4,
  "nbformat_minor": 0
}
