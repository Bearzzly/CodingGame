{
  "nbformat": 4,
  "nbformat_minor": 0,
  "metadata": {
    "colab": {
      "provenance": []
    },
    "kernelspec": {
      "name": "python3",
      "display_name": "Python 3"
    },
    "language_info": {
      "name": "python"
    }
  },
  "cells": [
    {
      "cell_type": "markdown",
      "source": [
        "Question 1 / 10 - Hiring new talent"
      ],
      "metadata": {
        "id": "cgvaDxTlYTkG"
      }
    },
    {
      "cell_type": "code",
      "execution_count": null,
      "metadata": {
        "id": "N4ziYzEaW22W"
      },
      "outputs": [],
      "source": [
        "\n",
        "def best_remaining_mutant(mutant_scores: dict, threshold: int) -> str:\n",
        "    '''\n",
        "    Args:\n",
        "\n",
        "        - mutant_scores (dict): The score corresponding to each mutant\n",
        "        - threshold (int): The score threshold above which mutants should be ignored\n",
        "\n",
        "    Returns:\n",
        "    '''\n",
        "    mutant_scores = dict(sorted(mutant_scores.items())) # sort by key\n",
        "    mutant_scores =  dict(sorted(mutant_scores.items(), key=lambda item: item[1])) # sort by value\n",
        "\n",
        "    res = \"\"\n",
        "    for key in mutant_scores:\n",
        "        if mutant_scores[key] < threshold:\n",
        "            res = key\n",
        "    return res\n"
      ]
    },
    {
      "cell_type": "code",
      "source": [
        "SELECT agent.name, COUNT(mutant.mutantid) as SCORE\n",
        "FROM agent INNER JOIN\n",
        "     mutant\n",
        "    ON mutant.recruiterid = agent.agentid\n",
        "GROUP BY agent.agentid, agent.name\n",
        "LIMIT 10;"
      ],
      "metadata": {
        "id": "wtfTAiw0uPOH"
      },
      "execution_count": null,
      "outputs": []
    }
  ]
}