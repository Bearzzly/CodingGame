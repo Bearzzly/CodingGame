{
  "nbformat": 4,
  "nbformat_minor": 0,
  "metadata": {
    "colab": {
      "provenance": []
    },
    "kernelspec": {
      "name": "python3",
      "display_name": "Python 3"
    },
    "language_info": {
      "name": "python"
    }
  },
  "cells": [
    {
      "cell_type": "code",
      "execution_count": null,
      "metadata": {
        "id": "gJtVga3ItXH9"
      },
      "outputs": [],
      "source": [
        "#Validate by Dichotomique's Search\n",
        "import sys\n",
        "import math\n",
        "\n",
        "# w: width of the building.\n",
        "# h: height of the building.\n",
        "w, h = [int(i) for i in input().split()]\n",
        "n = int(input())  # maximum number of turns before game over.\n",
        "x0, y0 = [int(i) for i in input().split()]\n",
        "heightMax = 0\n",
        "widthMax = 0\n",
        "\n",
        "# Dichotomique's Search\n",
        "# Each cycle, we know in wich direction is the bomb\n",
        "# Each cycle we cut the useless part of the table\n",
        "\n",
        "# game loop\n",
        "while True:\n",
        "    bomb_dir = input()  # the direction of the bombs from batman's current location (U, UR, R, DR, D, DL, L or UL)\n",
        "    if bomb_dir == \"U\" or bomb_dir == \"UL\" or bomb_dir == \"UR\" :\n",
        "        h = y0\n",
        "        y0 = int((y0+heightMax)/2)\n",
        "    if bomb_dir == \"D\" or bomb_dir == \"DR\" or bomb_dir == \"DL\":\n",
        "        heightMax = y0\n",
        "        y0 = int((y0+h)/2)\n",
        "    if bomb_dir == \"R\" or bomb_dir == \"DR\" or bomb_dir == \"UR\":\n",
        "        widthMax = x0\n",
        "        x0 = int((x0+w)/2)\n",
        "    if bomb_dir == \"L\"or bomb_dir == \"DL\" or bomb_dir == \"UL\":\n",
        "        w = x0\n",
        "        x0 = int((x0+widthMax)/2)\n",
        "\n",
        "    # the location of the next window Batman should jump to.\n",
        "    print(str(int(x0)) + \" \" + str(int(y0)))\n"
      ]
    }
  ]
}