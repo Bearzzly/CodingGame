{
  "nbformat": 4,
  "nbformat_minor": 0,
  "metadata": {
    "colab": {
      "provenance": []
    },
    "kernelspec": {
      "name": "python3",
      "display_name": "Python 3"
    },
    "language_info": {
      "name": "python"
    }
  },
  "cells": [
    {
      "cell_type": "code",
      "execution_count": null,
      "metadata": {
        "id": "gt2bON-4J1LT"
      },
      "outputs": [],
      "source": [
        "import sys\n",
        "import math\n",
        "\n",
        "# light_x: the X position of the light of power\n",
        "# light_y: the Y position of the light of power\n",
        "# initial_tx: Thor's starting X position\n",
        "# initial_ty: Thor's starting Y position\n",
        "light_x, light_y, initial_tx, initial_ty = [int(i) for i in input().split()]\n",
        "lx = light_x; ly = light_y;  tx = initial_tx;  ty = initial_ty #shorter name for xy\n",
        "\n",
        "\n",
        "# look position and update\n",
        "# priority for diagonal move, faster\n",
        "while True:\n",
        "    remaining_turns = int(input())  # The remaining amount of turns Thor can move. Do not remove this line.\n",
        "    if lx < tx and ly > ty:\n",
        "        print(\"SW\")\n",
        "        tx -=1\n",
        "        ty +=1\n",
        "    elif lx > tx and ly > ty:\n",
        "        print(\"SE\")\n",
        "        tx +=1\n",
        "        ty +=1\n",
        "    elif lx > tx and ly < ty:\n",
        "        print(\"NE\")\n",
        "        tx +=1\n",
        "        ty -=1\n",
        "    elif lx < tx and ly < ty:\n",
        "        print(\"NW\")\n",
        "        tx -=1\n",
        "        ty -=1\n",
        "    elif lx < tx :\n",
        "        print(\"W\")\n",
        "        tx -=1\n",
        "    elif lx > tx:\n",
        "        print(\"E\")\n",
        "        tx +=1\n",
        "    elif ly < ty:\n",
        "        print(\"N\")\n",
        "        ty -=1\n",
        "    elif ly > ty:\n",
        "        print(\"S\")\n",
        "        ty +=1"
      ]
    }
  ]
}