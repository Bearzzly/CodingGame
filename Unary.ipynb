{
  "nbformat": 4,
  "nbformat_minor": 0,
  "metadata": {
    "colab": {
      "provenance": []
    },
    "kernelspec": {
      "name": "python3",
      "display_name": "Python 3"
    },
    "language_info": {
      "name": "python"
    }
  },
  "cells": [
    {
      "cell_type": "code",
      "execution_count": 13,
      "metadata": {
        "colab": {
          "base_uri": "https://localhost:8080/"
        },
        "id": "dX9oVdxrHpDe",
        "outputId": "820c3ddc-91e1-49ae-fe6c-ca020d8e0744"
      },
      "outputs": [
        {
          "output_type": "execute_result",
          "data": {
            "text/plain": [
              "1.0"
            ]
          },
          "metadata": {},
          "execution_count": 13
        }
      ],
      "source": [
        "245%2\n",
        "\n",
        "2%2\n",
        "\n",
        "round(2/2)\n",
        "c = 2\n",
        "c /= 2\n",
        "c"
      ]
    },
    {
      "cell_type": "code",
      "source": [
        "l = [1,2,3]\n",
        "l.insert(0,0)\n",
        "print(len(l))\n",
        "l[0:len(l)]"
      ],
      "metadata": {
        "colab": {
          "base_uri": "https://localhost:8080/"
        },
        "id": "nbDf1IDQIEfg",
        "outputId": "f32bceaa-77ae-4a6e-fb59-9a2f9966c826"
      },
      "execution_count": 25,
      "outputs": [
        {
          "output_type": "stream",
          "name": "stdout",
          "text": [
            "4\n"
          ]
        },
        {
          "output_type": "execute_result",
          "data": {
            "text/plain": [
              "[0, 1, 2, 3]"
            ]
          },
          "metadata": {},
          "execution_count": 25
        }
      ]
    },
    {
      "cell_type": "code",
      "source": [
        "round(11/2)"
      ],
      "metadata": {
        "colab": {
          "base_uri": "https://localhost:8080/"
        },
        "id": "Nq85-ItfLrmp",
        "outputId": "4aaab4aa-7f88-4ddf-f96d-bdf22310df1d"
      },
      "execution_count": 15,
      "outputs": [
        {
          "output_type": "execute_result",
          "data": {
            "text/plain": [
              "6"
            ]
          },
          "metadata": {},
          "execution_count": 15
        }
      ]
    },
    {
      "cell_type": "code",
      "source": [
        "l = [0,0,0,1,1,1,0]\n",
        "def countDuplicate(b):\n",
        "  c= b[0]\n",
        "  i = 0\n",
        "  while c == b[i] :\n",
        "    i+=1\n",
        "  return i\n",
        "countDuplicate(l[3:len(l)])"
      ],
      "metadata": {
        "colab": {
          "base_uri": "https://localhost:8080/"
        },
        "id": "gjjfZps8SOxJ",
        "outputId": "6760b09d-8a75-459c-bba6-df51adaea851"
      },
      "execution_count": 28,
      "outputs": [
        {
          "output_type": "execute_result",
          "data": {
            "text/plain": [
              "3"
            ]
          },
          "metadata": {},
          "execution_count": 28
        }
      ]
    },
    {
      "cell_type": "code",
      "source": [
        "l = []\n",
        "l.append(00)\n",
        "l.append(0)\n",
        "l"
      ],
      "metadata": {
        "colab": {
          "base_uri": "https://localhost:8080/"
        },
        "id": "kwkxHMgZUcop",
        "outputId": "c557d378-fa50-4d65-d59f-919456e36f7b"
      },
      "execution_count": 29,
      "outputs": [
        {
          "output_type": "execute_result",
          "data": {
            "text/plain": [
              "[0, 0]"
            ]
          },
          "metadata": {},
          "execution_count": 29
        }
      ]
    },
    {
      "cell_type": "code",
      "source": [
        "t =\"0 0 00 0000 0 00 e\"\n",
        "t = t[:-1]\n",
        "t"
      ],
      "metadata": {
        "colab": {
          "base_uri": "https://localhost:8080/",
          "height": 35
        },
        "id": "Tl_LfHi8ndJt",
        "outputId": "e99612c3-b799-44d2-e6aa-baec7ee7391e"
      },
      "execution_count": 30,
      "outputs": [
        {
          "output_type": "execute_result",
          "data": {
            "text/plain": [
              "'0 0 00 0000 0 00 '"
            ],
            "application/vnd.google.colaboratory.intrinsic+json": {
              "type": "string"
            }
          },
          "metadata": {},
          "execution_count": 30
        }
      ]
    },
    {
      "cell_type": "code",
      "source": [
        "# Validate\n",
        "import sys\n",
        "import math\n",
        "\n",
        "msg = input() #text\n",
        "\n",
        "def textToAscii(t) : #return ascii value in list\n",
        "    res = []\n",
        "    for i in t:\n",
        "        res.append(ord(i)) #ord return ascii value\n",
        "    return res\n",
        "\n",
        "def intToBinary(c) : #return bin for one int\n",
        "    res = []\n",
        "    while round(c) > 0 :\n",
        "        res.insert(0, c%2) #begin at by the end and add element in front\n",
        "        c =  math.floor(c/2) # beware, round dont work because he rounded up\n",
        "    while len(res) < 7:\n",
        "        res.insert(0, 0) #need to base on 7 bit\n",
        "    return res\n",
        "\n",
        "#count sequence size (sequence of \"1\" o \"0\")\n",
        "def countDuplicate(b): #b for binary\n",
        "    c = b[0] #c for compare\n",
        "    i = 0\n",
        "    size = len(b)\n",
        "    while i < size  :\n",
        "        if c != b[i] :\n",
        "            return i\n",
        "        i+=1\n",
        "    return i\n",
        "\n",
        "#if 1 = 0\n",
        "#if 0 = 00\n",
        "#both is key (0 / 00) + sequence size\n",
        "# 00000 =  00 00000\n",
        "# 11111 =  0 11111\n",
        "def binaryToUnary(b):\n",
        "    i = 0\n",
        "    size = len(b)\n",
        "    res = \"\"\n",
        "    while i < size :\n",
        "        if b[i] == 0 :\n",
        "            res += \"00 \"\n",
        "        else :\n",
        "            res += \"0 \"\n",
        "        sequence = countDuplicate(b[i:size])\n",
        "        res += \"0\" * sequence\n",
        "        res += \" \"\n",
        "        i += sequence\n",
        "    return res[:-1]\n",
        "\n",
        "text_ascii = textToAscii(msg)\n",
        "text_binary = []\n",
        "for i in text_ascii :\n",
        "    bb = intToBinary(i)\n",
        "    for b in bb :\n",
        "        text_binary.append(b)\n",
        "\n",
        "print(binaryToUnary(text_binary))\n",
        "\n"
      ],
      "metadata": {
        "id": "KtWcIM3FyVjg"
      },
      "execution_count": null,
      "outputs": []
    }
  ]
}