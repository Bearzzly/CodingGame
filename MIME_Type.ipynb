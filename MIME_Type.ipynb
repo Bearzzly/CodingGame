{
  "nbformat": 4,
  "nbformat_minor": 0,
  "metadata": {
    "colab": {
      "provenance": []
    },
    "kernelspec": {
      "name": "python3",
      "display_name": "Python 3"
    },
    "language_info": {
      "name": "python"
    }
  },
  "cells": [
    {
      "cell_type": "markdown",
      "source": [
        "MIME Type\n",
        "by Bearzly"
      ],
      "metadata": {
        "id": "MoCa8Kh6XUYz"
      }
    },
    {
      "cell_type": "code",
      "source": [
        "import re\n"
      ],
      "metadata": {
        "id": "pe8em75VfmCi"
      },
      "execution_count": null,
      "outputs": []
    },
    {
      "cell_type": "code",
      "execution_count": null,
      "metadata": {
        "colab": {
          "base_uri": "https://localhost:8080/",
          "height": 35
        },
        "id": "RWWaIdxDXQRD",
        "outputId": "9c510ec4-e4b2-4bf3-922c-00606ecea438"
      },
      "outputs": [
        {
          "output_type": "execute_result",
          "data": {
            "text/plain": [
              "'gif'"
            ],
            "application/vnd.google.colaboratory.intrinsic+json": {
              "type": "string"
            }
          },
          "metadata": {},
          "execution_count": 5
        }
      ],
      "source": [
        "t = \"hello.gif\"\n",
        "l = t.split('.')[-1]\n",
        "\n",
        "l"
      ]
    },
    {
      "cell_type": "code",
      "source": [
        "\n",
        "txt = \"The rain in Spain\"\n",
        "x = re.search(\"^The.*Spain$\", txt)\n",
        "x"
      ],
      "metadata": {
        "colab": {
          "base_uri": "https://localhost:8080/"
        },
        "id": "_hH-vwlvfkB5",
        "outputId": "ee08e40e-59f3-4c27-f4b8-eeea09ebefe3"
      },
      "execution_count": null,
      "outputs": [
        {
          "output_type": "execute_result",
          "data": {
            "text/plain": [
              "<re.Match object; span=(0, 17), match='The rain in Spain'>"
            ]
          },
          "metadata": {},
          "execution_count": 8
        }
      ]
    },
    {
      "cell_type": "code",
      "source": [
        "f = \"/(^[^\\.]+\\.)([a-z]+$)\"\n",
        "t = \"image.img\"\n",
        "re.findall(f,t)\n"
      ],
      "metadata": {
        "colab": {
          "base_uri": "https://localhost:8080/"
        },
        "id": "QkyobD_LnPkf",
        "outputId": "d14780f8-397a-4dc2-9d76-00c0f493aafc"
      },
      "execution_count": null,
      "outputs": [
        {
          "output_type": "execute_result",
          "data": {
            "text/plain": [
              "[]"
            ]
          },
          "metadata": {},
          "execution_count": 4
        }
      ]
    },
    {
      "cell_type": "code",
      "source": [
        "t = [\"image.\", \".img\", \"animated.ggg.gif\", \"script.js\", \"source.cpp\" ]\n",
        "word = \"script.js\"\n",
        "t =  \"\\n\".join(t)\n",
        "regex = re.compile(r\"(^[^\\.]+)\\.([a-z0-9]+$)\")\n",
        "if re.fullmatch(regex, word) == None:\n",
        "  print(\"sad\")\n",
        "else:\n",
        "  print(\"good\")"
      ],
      "metadata": {
        "colab": {
          "base_uri": "https://localhost:8080/"
        },
        "id": "U9ATHaR4HJcW",
        "outputId": "ffea8dad-0a99-48e8-c6eb-6e3ba7d929d7"
      },
      "execution_count": null,
      "outputs": [
        {
          "output_type": "stream",
          "name": "stdout",
          "text": [
            "sad\n"
          ]
        }
      ]
    },
    {
      "cell_type": "code",
      "source": [
        "fname = \"zubida.tar\"\n",
        "name, ex = fname.rsplit('.', 1)\n",
        "print(name)\n",
        "print(ex)"
      ],
      "metadata": {
        "colab": {
          "base_uri": "https://localhost:8080/"
        },
        "id": "za10GVt6S68x",
        "outputId": "c51e8047-74cb-43d9-ec99-7824deb6cc28"
      },
      "execution_count": 1,
      "outputs": [
        {
          "output_type": "stream",
          "name": "stdout",
          "text": [
            "zubida\n",
            "tar\n"
          ]
        }
      ]
    },
    {
      "cell_type": "code",
      "source": [
        "['a', 'a.wav', 'b.wav.tmp', 'test.vmp3', 'pdf', '.pdf', 'mp3', 'report..pdf', 'defaultwav', '.mp3.', 'final.']\n"
      ],
      "metadata": {
        "id": "X1XhQi8JTRFm"
      },
      "execution_count": null,
      "outputs": []
    },
    {
      "cell_type": "code",
      "source": [
        "#50% de réussite, pour une raison inconnue, ne passe pas les tests de découpages\n",
        "import sys\n",
        "import math\n",
        "import re\n",
        "\n",
        "\n",
        "# Auto-generated code below aims at helping you parse\n",
        "# the standard input according to the problem statement.\n",
        "\n",
        "n = int(input())  # Number of elements which make up the association table.\n",
        "q = int(input())  # Number Q of file names to be analyzed.\n",
        "fname = []\n",
        "extmt = []\n",
        "\n",
        "regex = re.compile(r\"(^[^\\.]+)?\\.([a-z0-9A-Z]+$)\")\n",
        "\n",
        "for i in range(n):\n",
        "    # ext: file extension\n",
        "    # mt: MIME type.\n",
        "    extmt.append(input().split())\n",
        "fnamel = []\n",
        "for i in range(q):\n",
        "    fname = input()  # One file name per line.\n",
        "    fnamel.append(fname)\n",
        "    fname_ext = fname.split('.')[-1]\n",
        "    e = 0\n",
        "    isprint = 0\n",
        "    while e < n :\n",
        "        if extmt[e][0] == fname_ext and isprint == 0 and re.fullmatch(regex, fname) :\n",
        "            print(extmt[e][1])\n",
        "            isprint = 1\n",
        "        e += 1\n",
        "    if isprint == 0:\n",
        "        print(\"UNKNOWN\")\n",
        "# To debug: print(\"Debug messages...\", file=sys.stderr, flush=True)\n",
        "\n",
        "\n",
        "# For each of the Q filenames, display on a line the corresponding MIME type. If there is no corresponding type, then display UNKNOWN.\n",
        "#print(\"nbr element : \" + str(n), file=sys.stderr, flush=True)\n",
        "#print(\"nbr name : \" + str(q), file=sys.stderr, flush=True)\n",
        "#print(fname, file=sys.stderr, flush=True)\n",
        "print(extmt, file=sys.stderr, flush=True)\n",
        "print(fnamel, file=sys.stderr, flush=True)\n",
        "\n"
      ],
      "metadata": {
        "id": "q4N6VfNWUsC3"
      },
      "execution_count": null,
      "outputs": []
    },
    {
      "cell_type": "code",
      "source": [
        "#60%\n",
        "import sys\n",
        "import math\n",
        "import re\n",
        "\n",
        "\n",
        "# Auto-generated code below aims at helping you parse\n",
        "# the standard input according to the problem statement.\n",
        "\n",
        "n = int(input())  # Number of elements which make up the association table.\n",
        "q = int(input())  # Number Q of file names to be analyzed.\n",
        "fname = []\n",
        "extmt = []\n",
        "\n",
        "regex = re.compile(r\"(^[^\\.]+)?\\.+([a-z0-9A-Z]+$)\")\n",
        "\n",
        "for i in range(n):\n",
        "    # ext: file extension\n",
        "    # mt: MIME type.\n",
        "    extmt.append(input().split())\n",
        "fnamel = []\n",
        "for i in range(q):\n",
        "    fname = input()  # One file name per line.\n",
        "    fnamel.append(fname)\n",
        "    fname_ext = fname.split('.')[-1]\n",
        "    e = 0\n",
        "    isprint = 0\n",
        "    while e < n :\n",
        "        if extmt[e][0] == fname_ext and isprint == 0 and re.fullmatch(regex, fname) :\n",
        "            print(extmt[e][1])\n",
        "            isprint = 1\n",
        "        e += 1\n",
        "    if isprint == 0:\n",
        "        print(\"UNKNOWN\")\n",
        "# To debug: print(\"Debug messages...\", file=sys.stderr, flush=True)\n",
        "\n",
        "\n",
        "# For each of the Q filenames, display on a line the corresponding MIME type. If there is no corresponding type, then display UNKNOWN.\n",
        "#print(\"nbr element : \" + str(n), file=sys.stderr, flush=True)\n",
        "#print(\"nbr name : \" + str(q), file=sys.stderr, flush=True)\n",
        "#print(fname, file=sys.stderr, flush=True)\n",
        "print(extmt, file=sys.stderr, flush=True)\n",
        "print(fnamel, file=sys.stderr, flush=True)\n",
        "\n"
      ],
      "metadata": {
        "id": "5IP0c8ARVjGq"
      },
      "execution_count": null,
      "outputs": []
    },
    {
      "cell_type": "code",
      "source": [
        "#70% Fonctionne mais trop long pour le dernier test, try to modify while\n",
        "import sys\n",
        "import math\n",
        "import re\n",
        "\n",
        "\n",
        "# Auto-generated code below aims at helping you parse\n",
        "# the standard input according to the problem statement.\n",
        "\n",
        "n = int(input())  # Number of elements which make up the association table.\n",
        "q = int(input())  # Number Q of file names to be analyzed.\n",
        "fname = []\n",
        "extmt = []\n",
        "\n",
        "regex = re.compile(r\"(^[^\\.]+)?\\.+([a-z0-9A-Z]+$)\")\n",
        "\n",
        "for i in range(n):\n",
        "    # ext: file extension\n",
        "    # mt: MIME type.\n",
        "    extmt.append(input().split())\n",
        "fnamel = []\n",
        "for i in range(q):\n",
        "    fname = input()  # One file name per line.\n",
        "    fnamel.append(fname)\n",
        "    fname_ext = fname.split('.')[-1]\n",
        "    e = 0\n",
        "    isprint = 0\n",
        "    while e < n :\n",
        "        if extmt[e][0].lower() == fname_ext.lower() and isprint == 0 and re.fullmatch(regex, fname) :\n",
        "            print(extmt[e][1])\n",
        "            isprint = 1\n",
        "        e += 1\n",
        "    if isprint == 0:\n",
        "        print(\"UNKNOWN\")\n",
        "# To debug: print(\"Debug messages...\", file=sys.stderr, flush=True)\n",
        "\n",
        "\n",
        "# For each of the Q filenames, display on a line the corresponding MIME type. If there is no corresponding type, then display UNKNOWN.\n",
        "#print(\"nbr element : \" + str(n), file=sys.stderr, flush=True)\n",
        "#print(\"nbr name : \" + str(q), file=sys.stderr, flush=True)\n",
        "#print(fname, file=sys.stderr, flush=True)\n",
        "print(extmt, file=sys.stderr, flush=True)\n",
        "print(fnamel, file=sys.stderr, flush=True)\n",
        "\n"
      ],
      "metadata": {
        "id": "KA9LgelwXAoe"
      },
      "execution_count": null,
      "outputs": []
    },
    {
      "cell_type": "code",
      "source": [
        "#a retravailler\n",
        "import sys\n",
        "import math\n",
        "import re\n",
        "\n",
        "\n",
        "# Auto-generated code below aims at helping you parse\n",
        "# the standard input according to the problem statement.\n",
        "\n",
        "n = int(input())  # Number of elements which make up the association table.\n",
        "q = int(input())  # Number Q of file names to be analyzed.\n",
        "fname = []\n",
        "lext = []\n",
        "allmt = []\n",
        "regex = re.compile(r\"(^[^\\.]+)?\\.+([a-z0-9A-Z]+$)\")\n",
        "\n",
        "for i in range(n):\n",
        "    # ext: file extension\n",
        "    # mt: MIME type.\n",
        "    ext, mt= input().split()\n",
        "    lext.append(ext.lower)\n",
        "    allmt.append(mt)\n",
        "\n",
        "fnamel = []\n",
        "for i in range(q):\n",
        "    fname = input()  # One file name per line.\n",
        "    fnamel.append(fname)\n",
        "    fname_ext = fname.split('.')[-1]\n",
        "    e = 0\n",
        "    isprint = 0\n",
        "    if fname_ext.lower in lext and re.fullmatch(regex, fname):\n",
        "        print(allmt[lext.index(fname_ext.lower)])\n",
        "    else :\n",
        "        print(\"UNKNOWN\")\n",
        "\n",
        "\n",
        "# To debug: print(\"Debug messages...\", file=sys.stderr, flush=True)\n",
        "\n",
        "\n",
        "# For each of the Q filenames, display on a line the corresponding MIME type. If there is no corresponding type, then display UNKNOWN.\n",
        "#print(\"nbr element : \" + str(n), file=sys.stderr, flush=True)\n",
        "#print(\"nbr name : \" + str(q), file=sys.stderr, flush=True)\n",
        "#print(fname, file=sys.stderr, flush=True)\n",
        "print(fnamel, file=sys.stderr, flush=True)\n",
        "\n"
      ],
      "metadata": {
        "id": "dY5Vfgp8cGzI"
      },
      "execution_count": null,
      "outputs": []
    },
    {
      "cell_type": "code",
      "source": [
        "import sys\n",
        "import math\n",
        "import re\n",
        "\n",
        "\n",
        "# Auto-generated code below aims at helping you parse\n",
        "# the standard input according to the problem statement.\n",
        "\n",
        "n = int(input())  # Number of elements which make up the association table.\n",
        "q = int(input())  # Number Q of file names to be analyzed.\n",
        "list_ext = []\n",
        "allmt = []\n",
        "regex = re.compile(r\"(^[^\\.]+)?\\.+([a-z0-9A-Z]+$)\")\n",
        "\n",
        "for i in range(n):\n",
        "    # ext: file extension\n",
        "    # mt: MIME type.\n",
        "    ext, mt= input().split()\n",
        "    list_ext.append(ext.lower())\n",
        "    allmt.append(mt)\n",
        "\n",
        "list_file_name = []\n",
        "for i in range(q):\n",
        "    fname = input()  # get filename.\n",
        "    list_file_name.append(fname) #for test\n",
        "    if re.fullmatch(regex, fname) == None :\n",
        "        print(\"UNKNOWN\")\n",
        "    else :\n",
        "        fname_ext = fname.split('.')[-1] #get extension file\n",
        "        if fname_ext.lower() in list_ext :\n",
        "            index = list_ext.index(fname_ext.lower())\n",
        "            print(fname_ext.lower(), file=sys.stderr, flush=True)\n",
        "            print(list_ext, file=sys.stderr, flush=True)\n",
        "            print(allmt, file=sys.stderr, flush=True)\n",
        "\n",
        "            print(allmt[index])\n",
        "        else :\n",
        "            print(\"UNKNOWN\")\n",
        "\n",
        "\n",
        "# To debug: print(\"Debug messages...\", file=sys.stderr, flush=True)\n",
        "\n",
        "\n",
        "# For each of the Q filenames, display on a line the corresponding MIME type. If there is no corresponding type, then display UNKNOWN.\n",
        "#print(\"nbr element : \" + str(n), file=sys.stderr, flush=True)\n",
        "#print(\"nbr name : \" + str(q), file=sys.stderr, flush=True)\n",
        "#print(fname, file=sys.stderr, flush=True)\n",
        "print(list_ext, file=sys.stderr, flush=True)\n",
        "print(allmt, file=sys.stderr, flush=True)\n",
        "print(list_file_name, file=sys.stderr, flush=True)\n",
        "\n"
      ],
      "metadata": {
        "id": "Xnbw1Gjo6nuQ"
      },
      "execution_count": null,
      "outputs": []
    },
    {
      "cell_type": "code",
      "source": [
        "#Même là ça ne passe pas, j'ai untilisé time pour chercher les row chronophages\n",
        "import sys\n",
        "import math\n",
        "import re\n",
        "import time #lets find what takes time\n",
        "\n",
        "# Auto-generated code below aims at helping you parse\n",
        "# the standard input according to the problem statement.\n",
        "\n",
        "n = int(input())  # Number of elements which make up the association table.\n",
        "q = int(input())  # Number Q of file names to be analyzed.\n",
        "list_ext = []\n",
        "allmt = []\n",
        "#regex = re.compile(r\"(^[^\\.]+)?\\.+([a-z0-9A-Z]+$)\")\n",
        "regex = re.compile(r\"(^[a-z0-9_-]+)?\\.+([a-z0-9]+$)\")\n",
        "#regex = re.compile(r\"^[A-Za-z0-9_-]?\\.+[A-Za-z0-9]+$\")\n",
        "for i in range(n):\n",
        "    # ext: file extension\n",
        "    # mt: MIME type.\n",
        "    ext, mt= input().split()\n",
        "    list_ext.append(ext.lower())\n",
        "    allmt.append(mt)\n",
        "\n",
        "list_file_name = []\n",
        "\n",
        "for i in range(q):\n",
        "    #start = time.process_time()\n",
        "    fname = input()  # get filename.\n",
        "    #list_file_name.append(fname) #for test\n",
        "\n",
        "    if re.fullmatch(regex, fname.lower()) == None :\n",
        "        print(\"UNKNOWN\")\n",
        "        #print(time.process_time() - start, file=sys.stderr, flush=True)\n",
        "    else :\n",
        "        fname_ext = fname.split('.')[-1] #get extension file\n",
        "        if fname_ext.lower() in list_ext :\n",
        "            index = list_ext.index(fname_ext.lower())\n",
        "            #print(fname_ext.lower(), file=sys.stderr, flush=True)\n",
        "            #print(list_ext, file=sys.stderr, flush=True)\n",
        "            #print(allmt, file=sys.stderr, flush=True)\n",
        "\n",
        "            print(allmt[index])\n",
        "        else :\n",
        "            print(\"UNKNOWN\")\n",
        "    #print(time.process_time() - start, file=sys.stderr, flush=True)\n",
        "\n",
        "\n",
        "# To debug: print(\"Debug messages...\", file=sys.stderr, flush=True)\n",
        "\n",
        "\n",
        "# For each of the Q filenames, display on a line the corresponding MIME type. If there is no corresponding type, then display UNKNOWN.\n",
        "#print(\"nbr element : \" + str(n), file=sys.stderr, flush=True)\n",
        "#print(\"nbr name : \" + str(q), file=sys.stderr, flush=True)\n",
        "#print(fname, file=sys.stderr, flush=True)\n",
        "#print(list_ext, file=sys.stderr, flush=True)\n",
        "#print(allmt, file=sys.stderr, flush=True)\n",
        "#print(list_file_name, file=sys.stderr, flush=True)\n",
        "\n"
      ],
      "metadata": {
        "id": "ox4XR6puFpnO"
      },
      "execution_count": null,
      "outputs": []
    },
    {
      "cell_type": "markdown",
      "source": [
        "a suivre : https://www.youtube.com/watch?v=7k8K_SVvUB4\n",
        "fox pour explication"
      ],
      "metadata": {
        "id": "PjHgLtxbrHm6"
      }
    }
  ]
}