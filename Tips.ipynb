{
  "nbformat": 4,
  "nbformat_minor": 0,
  "metadata": {
    "colab": {
      "provenance": [],
      "authorship_tag": "ABX9TyOuIm/7XFVPoPvlvdLkaGPg",
      "include_colab_link": true
    },
    "kernelspec": {
      "name": "python3",
      "display_name": "Python 3"
    },
    "language_info": {
      "name": "python"
    }
  },
  "cells": [
    {
      "cell_type": "markdown",
      "metadata": {
        "id": "view-in-github",
        "colab_type": "text"
      },
      "source": [
        "<a href=\"https://colab.research.google.com/github/Bearzzly/CodingGame/blob/main/Tips.ipynb\" target=\"_parent\"><img src=\"https://colab.research.google.com/assets/colab-badge.svg\" alt=\"Open In Colab\"/></a>"
      ]
    },
    {
      "cell_type": "markdown",
      "source": [
        "### **NOTION**\n",
        "\n",
        "\n"
      ],
      "metadata": {
        "id": "iykthGBj24Wx"
      }
    },
    {
      "cell_type": "code",
      "source": [
        "#Manage files system\n",
        "import os"
      ],
      "metadata": {
        "id": "VnhG1gqa3HeP"
      },
      "execution_count": null,
      "outputs": []
    },
    {
      "cell_type": "code",
      "source": [
        "# and / or\n",
        "if (0 == 0 and 1 == 1) or 2 != -1:\n",
        "  print(True)"
      ],
      "metadata": {
        "id": "oZjuS6CE3SkZ"
      },
      "execution_count": null,
      "outputs": []
    },
    {
      "cell_type": "markdown",
      "source": [
        "### **Init class**"
      ],
      "metadata": {
        "id": "ZMrqIxhdwio4"
      }
    },
    {
      "cell_type": "code",
      "source": [
        "# Init Class\n",
        "class Point():\n",
        "  def __init__(self, x,y):\n",
        "    self.x = x\n",
        "    self.y = y\n",
        "  def __eq__(self, other):\n",
        "    return (self.x, self.y) == (other.x, other.y)\n",
        "x = 1\n",
        "y = 1\n",
        "point = Point(x, y)"
      ],
      "metadata": {
        "id": "7pJI2V9538N7"
      },
      "execution_count": null,
      "outputs": []
    },
    {
      "cell_type": "code",
      "source": [
        "class A:\n",
        "  def __init__(self, text):\n",
        "    self.text = text\n",
        "\n",
        "class B:\n",
        "  def __init__(self):\n",
        "    super().__init__(\"hello\")\n"
      ],
      "metadata": {
        "id": "8vqudZ9T8Be3"
      },
      "execution_count": null,
      "outputs": []
    },
    {
      "cell_type": "code",
      "source": [
        "#Multi Thread = True"
      ],
      "metadata": {
        "id": "gzAID3N-5Z-e"
      },
      "execution_count": null,
      "outputs": []
    },
    {
      "cell_type": "markdown",
      "source": [
        "### Raise **exception**"
      ],
      "metadata": {
        "id": "KyriYRBDwU9F"
      }
    },
    {
      "cell_type": "code",
      "source": [
        "#Raise Exception (Python) :\n",
        "#Par exemple, générer une exception de type ValueError, vous pouvez écrire quelque chose comme ceci :\n",
        "raise ValueError(\"Optionnel : Ceci est une exception de valeur incorrecte.\")\n"
      ],
      "metadata": {
        "id": "hIxSytWB5mHP"
      },
      "execution_count": null,
      "outputs": []
    },
    {
      "cell_type": "markdown",
      "source": [
        "### **Iterate On String**"
      ],
      "metadata": {
        "id": "Iqw6hOTfwIUU"
      }
    },
    {
      "cell_type": "code",
      "source": [
        "#Iterate in string\n",
        "t = \"helloworld !\"\n",
        "for i in t :\n",
        "  print(i)\n",
        "for i in list(t):\n",
        "  print(i)"
      ],
      "metadata": {
        "colab": {
          "base_uri": "https://localhost:8080/"
        },
        "id": "2uNcBOHI7pbX",
        "outputId": "93957179-82ca-48eb-c45b-cbbd1adad827"
      },
      "execution_count": null,
      "outputs": [
        {
          "output_type": "stream",
          "name": "stdout",
          "text": [
            "h\n",
            "e\n",
            "l\n",
            "l\n",
            "o\n",
            "w\n",
            "o\n",
            "r\n",
            "l\n",
            "d\n",
            " \n",
            "!\n",
            "h\n",
            "e\n",
            "l\n",
            "l\n",
            "o\n",
            "w\n",
            "o\n",
            "r\n",
            "l\n",
            "d\n",
            " \n",
            "!\n"
          ]
        }
      ]
    },
    {
      "cell_type": "markdown",
      "source": [
        "### **Calcul**\n"
      ],
      "metadata": {
        "id": "rGcbOgTFrjft"
      }
    },
    {
      "cell_type": "code",
      "source": [
        "import math"
      ],
      "metadata": {
        "id": "fd6hTLh-teNQ"
      },
      "execution_count": null,
      "outputs": []
    },
    {
      "cell_type": "code",
      "execution_count": null,
      "metadata": {
        "colab": {
          "base_uri": "https://localhost:8080/"
        },
        "id": "xRVlThEGqmK9",
        "outputId": "9ce7f723-875e-46b3-b02a-a1f7adee09c1"
      },
      "outputs": [
        {
          "output_type": "execute_result",
          "data": {
            "text/plain": [
              "0"
            ]
          },
          "metadata": {},
          "execution_count": 15
        }
      ],
      "source": [
        "#return 0 if pair, 1 if impair\n",
        "245%2 # = 1\n",
        "20%2 # = 0\n",
        "\n",
        "#round closest integer\n",
        "#second parameter = nbr of decimal\n",
        "round(2/3) # = 1\n",
        "round(2/5, 2) # = 0.4\n",
        "round(2/5) # = 0\n",
        "\n",
        "#round inferior integer\n",
        "math.floor(3/2)\n",
        "\n",
        "#round inferior integer\n",
        "int(4/5) # = 0"
      ]
    },
    {
      "cell_type": "markdown",
      "source": [
        "### **Condition**"
      ],
      "metadata": {
        "id": "pjZuQhDxr-_L"
      }
    },
    {
      "cell_type": "code",
      "source": [
        "#a = condition ? value_if_true : value_if_false\n",
        "l = [\"a\",\"b\",\"c\",0]\n",
        "for i in l:\n",
        "  a = \"int\" if i == 0 else \"str\"\n",
        "  print(a)"
      ],
      "metadata": {
        "colab": {
          "base_uri": "https://localhost:8080/"
        },
        "id": "jUjZMZh9r94t",
        "outputId": "779c5d6a-16e9-41c0-974a-12da217cf320"
      },
      "execution_count": null,
      "outputs": [
        {
          "output_type": "stream",
          "name": "stdout",
          "text": [
            "str\n",
            "str\n",
            "str\n",
            "int\n"
          ]
        }
      ]
    },
    {
      "cell_type": "code",
      "source": [
        "age = 42\n",
        "majorite = \"Mineur\" if age < 18 else \"Majeur\" # = \"Majeur\"\n"
      ],
      "metadata": {
        "colab": {
          "base_uri": "https://localhost:8080/",
          "height": 35
        },
        "id": "i3qG7Q-boeAO",
        "outputId": "ff45785a-bd3c-4fff-a844-55d36a7a48b1"
      },
      "execution_count": null,
      "outputs": [
        {
          "output_type": "execute_result",
          "data": {
            "text/plain": [
              "'Majeur'"
            ],
            "application/vnd.google.colaboratory.intrinsic+json": {
              "type": "string"
            }
          },
          "metadata": {},
          "execution_count": 24
        }
      ]
    },
    {
      "cell_type": "markdown",
      "source": [
        "### **Text manipulation**\n"
      ],
      "metadata": {
        "id": "vixwgEVfxufr"
      }
    },
    {
      "cell_type": "code",
      "source": [
        "t = \"Hello World ! \"\n",
        "\n",
        "# minuscule\n",
        "t.lower() # = \"hello world ! \"\n",
        "\n",
        "# majuscule\n",
        "t.upper() # = \"HELLO WORLD !  \"\n",
        "\n",
        "#return ascii value\n",
        "ord('A') # = 65\n"
      ],
      "metadata": {
        "colab": {
          "base_uri": "https://localhost:8080/"
        },
        "id": "UX1HIIqPxqVT",
        "outputId": "8310ca63-6e9e-4c8d-f11c-e0b3dbabc124"
      },
      "execution_count": null,
      "outputs": [
        {
          "output_type": "execute_result",
          "data": {
            "text/plain": [
              "65"
            ]
          },
          "metadata": {},
          "execution_count": 18
        }
      ]
    },
    {
      "cell_type": "markdown",
      "source": [
        "### **Boucles**"
      ],
      "metadata": {
        "id": "9zoIX3uOfDL_"
      }
    },
    {
      "cell_type": "code",
      "source": [
        "i = 0\n",
        "x = 11\n",
        "while (i <= 10 and i%2 == 0) or i == 11: # tant que (i est <= 10 ET pair) OU i == 11\n",
        "  print(i)\n",
        "  i +=2\n"
      ],
      "metadata": {
        "colab": {
          "base_uri": "https://localhost:8080/"
        },
        "id": "w3OhRRy8fGMr",
        "outputId": "da8d06d3-d339-4a47-9f61-2e0505188c4e"
      },
      "execution_count": null,
      "outputs": [
        {
          "output_type": "stream",
          "name": "stdout",
          "text": [
            "0\n",
            "2\n",
            "4\n",
            "6\n",
            "8\n",
            "10\n"
          ]
        }
      ]
    },
    {
      "cell_type": "code",
      "source": [
        "ln = [0,1,2,3,4,5,6]\n",
        "ll = [\"a\",\"b\",\"c\",\"d\",\"e\",\"f\",\"g\"]\n",
        "\n",
        "# l == lettre\n",
        "# i == index\n",
        "for i, l in enumerate(ll):\n",
        "  print(str(i) + l)\n"
      ],
      "metadata": {
        "colab": {
          "base_uri": "https://localhost:8080/"
        },
        "id": "tnI0-Sd2hF4C",
        "outputId": "f36db155-8078-4ee3-cf07-efd2ed469133"
      },
      "execution_count": null,
      "outputs": [
        {
          "output_type": "stream",
          "name": "stdout",
          "text": [
            "0a\n",
            "1b\n",
            "2c\n",
            "3d\n",
            "4e\n",
            "5f\n",
            "6g\n"
          ]
        }
      ]
    },
    {
      "cell_type": "markdown",
      "source": [
        "### **List**\n"
      ],
      "metadata": {
        "id": "4-nAkOErttaS"
      }
    },
    {
      "cell_type": "code",
      "source": [
        "#List changeable, allow duplicate, ordered\n",
        "#Negative index of a list in refers to accessing elements in a list by counting from the end of the list\n",
        "\n",
        "# déclare / init / reassign\n",
        "l = []\n",
        "l = [1,2,3]\n",
        "\n",
        "# add element to the end of list\n",
        "l.append(4) # = [1,2,3,4]\n",
        "\n",
        "# insert at place \"0\" the value \"12\"\n",
        "l.insert(0,12) # = [12,1,2,3,4]\n",
        "\n",
        "# list's size\n",
        "len(l) # = 5\n",
        "\n",
        "#full list\n",
        "l[:] # = [12,1,2,3,4]\n",
        "\n",
        "#last elem to end\n",
        "l[-1:] # = [4]\n",
        "\n",
        "# list less last elem\n",
        "l[:-1] # = [12,1,2,3]\n",
        "\n",
        "l.insert(3, 50) # = [12, 1, 2, 50, 3, 4]\n",
        "\n",
        "#biggest value of list\n",
        "max(l) # = 50\n",
        "\n",
        "#smallest value of list\n",
        "min(l) # = 1\n",
        "\n",
        "# return index of biggesr value\n",
        "l.index(max(l)) # = 3\n",
        "\n",
        "# delete index 3\n",
        "del l[3] # [12, 1, 2, 50, 3, 4] => [12, 1, 2, 3, 4]\n",
        "\n",
        "\n"
      ],
      "metadata": {
        "id": "Dpn--noEt-CK"
      },
      "execution_count": null,
      "outputs": []
    },
    {
      "cell_type": "markdown",
      "source": [
        "List of string"
      ],
      "metadata": {
        "id": "9bZ_KHGAyUjW"
      }
    },
    {
      "cell_type": "code",
      "source": [
        "# List to String\n",
        "t = ['H','e','l','l','o']\n",
        "res = ''.join(t) # = 'Hello'\n"
      ],
      "metadata": {
        "colab": {
          "base_uri": "https://localhost:8080/",
          "height": 35
        },
        "id": "p9hQnH5HyS-u",
        "outputId": "456711ba-aa93-40e8-b070-178591da1fe2"
      },
      "execution_count": null,
      "outputs": [
        {
          "output_type": "execute_result",
          "data": {
            "text/plain": [
              "'Hello'"
            ],
            "application/vnd.google.colaboratory.intrinsic+json": {
              "type": "string"
            }
          },
          "metadata": {},
          "execution_count": 1
        }
      ]
    },
    {
      "cell_type": "markdown",
      "source": [
        "### **MAP**"
      ],
      "metadata": {
        "id": "UuMnEb5qxCxb"
      }
    },
    {
      "cell_type": "code",
      "source": [
        "#apply the same algorithm to all elements\n",
        "nbr = [10, 15, 21, 33, 42, 55]\n",
        "map_nbr = list(map(lambda x: x * 2 + 3, nbr)) #every value = *2+3\n",
        "map_nbr # = [23, 33, 45, 69, 87, 113]\n",
        "\n"
      ],
      "metadata": {
        "colab": {
          "base_uri": "https://localhost:8080/"
        },
        "id": "u7A8udlDxFju",
        "outputId": "2c4b8563-3806-4954-d77e-86e652163fbc"
      },
      "execution_count": null,
      "outputs": [
        {
          "output_type": "execute_result",
          "data": {
            "text/plain": [
              "[23, 33, 45, 69, 87, 113]"
            ]
          },
          "metadata": {},
          "execution_count": 2
        }
      ]
    },
    {
      "cell_type": "markdown",
      "source": [
        "### **SET**"
      ],
      "metadata": {
        "id": "ynY4jA7NyTyo"
      }
    },
    {
      "cell_type": "code",
      "source": [
        "# Unordered (pas d'index ni d'ordre)\n",
        "# Unchangeable (pas de modification des valeurs)\n",
        "# No Duplicate\n",
        "# multi type\n",
        "# True & 1 is the same value\n",
        "fruit = {\"apple\", \"banana\", \"cherry\", \"apple\", 8, True, 1}\n",
        "fruit # {'apple', 'banana', 'cherry'}\n",
        "\n"
      ],
      "metadata": {
        "colab": {
          "base_uri": "https://localhost:8080/"
        },
        "id": "qO8ona69yTKg",
        "outputId": "b22d8507-2b2d-4a2e-f711-014b38dc4f10"
      },
      "execution_count": null,
      "outputs": [
        {
          "output_type": "execute_result",
          "data": {
            "text/plain": [
              "{8, True, 'apple', 'banana', 'cherry'}"
            ]
          },
          "metadata": {},
          "execution_count": 7
        }
      ]
    },
    {
      "cell_type": "markdown",
      "source": [
        "### **Tuples**"
      ],
      "metadata": {
        "id": "rUm7eYIB1da8"
      }
    },
    {
      "cell_type": "code",
      "source": [
        "# Ordered, Unchangeable, allow duplicate .\n",
        "# Unchangeable = cannot change, add or remove items\n",
        "tuple1 = (\"abc\", 34, True, 40, \"male\", 40)\n",
        "tuple1\n",
        "\n"
      ],
      "metadata": {
        "colab": {
          "base_uri": "https://localhost:8080/"
        },
        "id": "OOXtnZx_1fwU",
        "outputId": "460d2687-59e0-4305-e43f-af75817630a6"
      },
      "execution_count": null,
      "outputs": [
        {
          "output_type": "execute_result",
          "data": {
            "text/plain": [
              "('abc', 34, True, 40, 'male', 40)"
            ]
          },
          "metadata": {},
          "execution_count": 8
        }
      ]
    },
    {
      "cell_type": "markdown",
      "source": [
        "### **Dictionnaires**"
      ],
      "metadata": {
        "id": "Wv-AMKJI5TCl"
      }
    },
    {
      "cell_type": "code",
      "source": [
        "#Ordered & Desordered\n",
        "# Items have a defined order, and that order will not change\n",
        "# But u cant use index !\n",
        "# Changeable\n",
        "# NO Duplicate\n",
        "\n",
        "rdict = {\n",
        "  \"brand\": \"Ford\",\n",
        "  \"model\": \"Mustang\",\n",
        "  \"year\": 1964\n",
        "}\n",
        "print(rdict[\"brand\"])"
      ],
      "metadata": {
        "colab": {
          "base_uri": "https://localhost:8080/"
        },
        "id": "Ex_DcAJI5SvC",
        "outputId": "078fa13d-1841-4401-8edc-8a9e98caae0f"
      },
      "execution_count": null,
      "outputs": [
        {
          "output_type": "stream",
          "name": "stdout",
          "text": [
            "Ford\n"
          ]
        }
      ]
    },
    {
      "cell_type": "code",
      "source": [
        "thisdict = {\n",
        "  \"brand\": \"Ford\",\n",
        "  \"model\": \"Mustang\",\n",
        "  \"year\": 1964,\n",
        "  \"year\": 2020\n",
        "}\n",
        "print(thisdict) # = {'brand': 'Ford', 'model': 'Mustang', 'year': 2020}\n",
        "# no duplicate, only last year pop"
      ],
      "metadata": {
        "colab": {
          "base_uri": "https://localhost:8080/"
        },
        "id": "frahILoE6sSm",
        "outputId": "9ea4f135-0a04-4139-f98e-e05293413e74"
      },
      "execution_count": null,
      "outputs": [
        {
          "output_type": "stream",
          "name": "stdout",
          "text": [
            "{'brand': 'Ford', 'model': 'Mustang', 'year': 2020}\n"
          ]
        }
      ]
    },
    {
      "cell_type": "code",
      "source": [
        "   factoriel"
      ],
      "metadata": {
        "id": "mq7e7kTu-cyu"
      },
      "execution_count": null,
      "outputs": []
    },
    {
      "cell_type": "markdown",
      "source": [
        "### **Sorting**"
      ],
      "metadata": {
        "id": "X54_Vvou9cun"
      }
    },
    {
      "cell_type": "code",
      "source": [
        "original_list = [3, 1, 2, 5, 4]\n",
        "original_list.sort()\n",
        "#original_list.sort(reverse=True)\n",
        "print(original_list)  # = [1, 2, 3, 4, 5]\n",
        "\n",
        "li = [5,2,6,12,-2,98,2,-3]\n",
        "li = sorted(li)\n",
        "#li = sorted(li, reverse=True)\n",
        "print(li) # = [-3, -2, 2, 2, 5, 6, 12, 98]\n",
        "# reverse sorted(li, reverse=True) / original_list.sort(reverse=True)\n"
      ],
      "metadata": {
        "colab": {
          "base_uri": "https://localhost:8080/"
        },
        "id": "agrs2Bd79yL3",
        "outputId": "32168642-948f-4ed0-f1b4-9fd278b73212"
      },
      "execution_count": null,
      "outputs": [
        {
          "output_type": "stream",
          "name": "stdout",
          "text": [
            "[5, 4, 3, 2, 1]\n",
            "[-3, -2, 2, 2, 5, 6, 12, 98]\n"
          ]
        }
      ]
    },
    {
      "cell_type": "markdown",
      "source": [
        "### **String <=> Int**"
      ],
      "metadata": {
        "id": "LDjVcBKR_3lu"
      }
    },
    {
      "cell_type": "code",
      "source": [
        "# 1 String To Int\n",
        "strs = ['0', '1', '2']\n",
        "strs = list(map(int,strs))\n",
        "print(strs[1] + strs[2])  # 1 + 2 = 3"
      ],
      "metadata": {
        "colab": {
          "base_uri": "https://localhost:8080/"
        },
        "id": "quqDnIge_9bH",
        "outputId": "26f8ff60-2484-4b69-9ad9-d0aa10ce114e"
      },
      "execution_count": null,
      "outputs": [
        {
          "output_type": "stream",
          "name": "stdout",
          "text": [
            "3\n"
          ]
        }
      ]
    },
    {
      "cell_type": "code",
      "source": [
        "# 2 String To Int\n",
        "strs = ['0', '1', '2']\n",
        "strs = [int(x) for x in strs]\n",
        "print(strs[1] + strs[2])"
      ],
      "metadata": {
        "colab": {
          "base_uri": "https://localhost:8080/"
        },
        "id": "cV-JUw2nAgId",
        "outputId": "aae6c9e3-9d36-4ede-ba92-83a24bf008b7"
      },
      "execution_count": null,
      "outputs": [
        {
          "output_type": "stream",
          "name": "stdout",
          "text": [
            "3\n"
          ]
        }
      ]
    },
    {
      "cell_type": "code",
      "source": [
        "# 1 Int to String\n",
        "ints = [1, 2, 3]\n",
        "ints = list(map(str,ints))\n",
        "print(ints[1] + ints[2])  # \"2\" + \"3\" = \"23\"\n"
      ],
      "metadata": {
        "colab": {
          "base_uri": "https://localhost:8080/"
        },
        "id": "DlFrKdB6Av4B",
        "outputId": "c3722e54-7b1d-4c1c-dd17-f613868c4f12"
      },
      "execution_count": null,
      "outputs": [
        {
          "output_type": "stream",
          "name": "stdout",
          "text": [
            "23\n"
          ]
        }
      ]
    },
    {
      "cell_type": "code",
      "source": [
        "# 2 Int to String\n",
        "ints = [1, 2, 3]\n",
        "ints = [str(x) for x in ints]\n",
        "print(ints[1] + ints[2])  # \"2\" + \"3\" = \"23\"\n"
      ],
      "metadata": {
        "colab": {
          "base_uri": "https://localhost:8080/"
        },
        "id": "xhx9OW2iBX8v",
        "outputId": "f908c3e3-90b4-45e0-9781-694c8070a912"
      },
      "execution_count": null,
      "outputs": [
        {
          "output_type": "stream",
          "name": "stdout",
          "text": [
            "23\n"
          ]
        }
      ]
    },
    {
      "cell_type": "markdown",
      "source": [
        "### **Heritage**"
      ],
      "metadata": {
        "id": "bR_bJkTgCfuO"
      }
    },
    {
      "cell_type": "code",
      "source": [
        "class A ():\n",
        "  def test(self):\n",
        "    print('A')\n",
        "\n",
        "  def __init__(self):\n",
        "    self.test()\n",
        "\n",
        "class B(A):\n",
        "  def __init__(self):\n",
        "    self.test()\n",
        "\n",
        "b = B()\n",
        "b.test()"
      ],
      "metadata": {
        "colab": {
          "base_uri": "https://localhost:8080/"
        },
        "id": "NDukjrS0Ci2D",
        "outputId": "4545b14d-cbf8-4976-d566-9f9763f1a234"
      },
      "execution_count": null,
      "outputs": [
        {
          "output_type": "stream",
          "name": "stdout",
          "text": [
            "A\n"
          ]
        }
      ]
    },
    {
      "cell_type": "markdown",
      "source": [
        "### **Factorial**"
      ],
      "metadata": {
        "id": "1M1kjx3yD5b9"
      }
    },
    {
      "cell_type": "code",
      "source": [
        "#100/100\n",
        "def factorial(n):\n",
        "  if n == 0:\n",
        "    return 1\n",
        "  else:\n",
        "    return n * factorial(n-1)"
      ],
      "metadata": {
        "id": "KDD12yn9D7yU"
      },
      "execution_count": null,
      "outputs": []
    },
    {
      "cell_type": "markdown",
      "source": [
        "### **Find_largest**"
      ],
      "metadata": {
        "id": "Al5wJA5gNksA"
      }
    },
    {
      "cell_type": "code",
      "source": [
        "#100/100\n",
        "def find_largest(numbers):\n",
        "  return max(numbers)"
      ],
      "metadata": {
        "id": "3ZHlkg2BNnpk"
      },
      "execution_count": null,
      "outputs": []
    },
    {
      "cell_type": "markdown",
      "source": [
        "### **Average**"
      ],
      "metadata": {
        "id": "9cjkhV8GN6dd"
      }
    },
    {
      "cell_type": "code",
      "source": [
        "125-150/150\n",
        "def average(table):\n",
        "  res=0\n",
        "  if(len(table) < 1):\n",
        "    return 0\n",
        "  for i in table:\n",
        "    res += i\n",
        "  res = res/len(table)\n",
        "  return res\n",
        "\n",
        "test = []\n",
        "print(average(test))"
      ],
      "metadata": {
        "colab": {
          "base_uri": "https://localhost:8080/"
        },
        "id": "yotiPHBCN8hp",
        "outputId": "1892407b-eb79-4470-de9c-ee3bae508767"
      },
      "execution_count": null,
      "outputs": [
        {
          "output_type": "stream",
          "name": "stdout",
          "text": [
            "0\n"
          ]
        }
      ]
    },
    {
      "cell_type": "markdown",
      "source": [
        "### **Is_Bool**"
      ],
      "metadata": {
        "id": "DqBdKNQeO3po"
      }
    },
    {
      "cell_type": "code",
      "source": [
        "100/100\n",
        "def is_bool(i,j):\n",
        "  if i == 1 or j == 1 or j + i == 1:\n",
        "    return True\n",
        "  return False"
      ],
      "metadata": {
        "id": "8r4Wg3zPO5wE"
      },
      "execution_count": null,
      "outputs": []
    },
    {
      "cell_type": "markdown",
      "source": [
        "### **Is_Twin**"
      ],
      "metadata": {
        "id": "iK-ku-fdHfS7"
      }
    },
    {
      "cell_type": "code",
      "source": [
        "# 105/150\n",
        "def is_twin(a,b):\n",
        "  bb = []\n",
        "  a = a.lower()\n",
        "  b = b.lower()\n",
        "  if len(a) != len(b):\n",
        "    return False\n",
        "  for i in b:\n",
        "    bb.append(i)\n",
        "  for i in bb:\n",
        "    if i not in a:\n",
        "      return False\n",
        "  return True"
      ],
      "metadata": {
        "id": "awaagp6RHhti"
      },
      "execution_count": null,
      "outputs": []
    },
    {
      "cell_type": "code",
      "source": [
        "#x/150\n",
        "def is_twin(a, b):\n",
        "    if(sorted(a.lower())== sorted(b.lower())):\n",
        "        return True\n",
        "    False"
      ],
      "metadata": {
        "id": "MUoZBoHWKHfM"
      },
      "execution_count": null,
      "outputs": []
    },
    {
      "cell_type": "markdown",
      "source": [
        "### **Is_On_Even_Position**"
      ],
      "metadata": {
        "id": "zBebArhnMq0F"
      }
    },
    {
      "cell_type": "code",
      "source": [
        "#67/100\n",
        "def is_on_even_position(table, value):\n",
        "  if table.index(value)%2 == 0:\n",
        "    return True\n",
        "  return False"
      ],
      "metadata": {
        "id": "12X62PoNMuhF"
      },
      "execution_count": null,
      "outputs": []
    },
    {
      "cell_type": "code",
      "source": [
        "# x/100\n",
        "def index_pair_is_even(arr, value):\n",
        "    try:\n",
        "        index = arr.index(value)  # Trouve l'index de la valeur dans le tableau\n",
        "        return index % 2 == 0   # Vérifie si l'index est pair\n",
        "    except ValueError:\n",
        "        return False  # Si la valeur n'est pas présente dans le tableau, retourne False\n",
        "\n",
        "my_list = [10, 20, 30, 40, 50]\n",
        "my_list = [10, 20, 25, 30, 40, 50]\n",
        "value_to_check = 30\n",
        "\n",
        "result = index_pair_is_even(my_list, value_to_check)\n",
        "print(result)"
      ],
      "metadata": {
        "colab": {
          "base_uri": "https://localhost:8080/"
        },
        "id": "Df5z0lynRH5U",
        "outputId": "d0f62144-555d-4839-b3b6-c6f90c80b0fb"
      },
      "execution_count": null,
      "outputs": [
        {
          "output_type": "stream",
          "name": "stdout",
          "text": [
            "False\n"
          ]
        }
      ]
    },
    {
      "cell_type": "markdown",
      "source": [
        "### **Approximation of PI**"
      ],
      "metadata": {
        "id": "cppIOnKGS1KR"
      }
    },
    {
      "cell_type": "code",
      "source": [
        "#x/200\n",
        "import random\n",
        "\n",
        "def pi_approximation(num_points):\n",
        "    inside_circle = 0\n",
        "\n",
        "    for _ in range(num_points):\n",
        "        x = random.uniform(0, 1)\n",
        "        y = random.uniform(0, 1)\n",
        "\n",
        "        # Vérifie si le point est à l'intérieur du cercle unité\n",
        "        if x**2 + y**2 <= 1:\n",
        "            inside_circle += 1\n",
        "\n",
        "    # Approximation de π : aire du quart de cercle / aire du carré\n",
        "    pi_estimate = (inside_circle / num_points) * 4\n",
        "    return pi_estimate\n",
        "\n",
        "# Exemple d'utilisation\n",
        "num_points = 1000000  # Vous pouvez ajuster le nombre de points pour obtenir une meilleure approximation\n",
        "estimated_pi = pi_approximation(num_points)\n",
        "print(f\"Approximation de π avec {num_points} points : {estimated_pi}\")\n"
      ],
      "metadata": {
        "colab": {
          "base_uri": "https://localhost:8080/"
        },
        "id": "8C3_hFvXS5W_",
        "outputId": "b4ab06f8-b551-4ea2-ed7a-841d5e379be5"
      },
      "execution_count": null,
      "outputs": [
        {
          "output_type": "stream",
          "name": "stdout",
          "text": [
            "Approximation de π avec 1000000 points : 3.142208\n"
          ]
        }
      ]
    },
    {
      "cell_type": "markdown",
      "source": [
        "### **ASCII Art**"
      ],
      "metadata": {
        "id": "k4_LYdnuWLb9"
      }
    },
    {
      "cell_type": "code",
      "source": [
        "# return later #x/300\n",
        "# Fonction pour générer de l'ASCII art d'une lettre\n",
        "def lettre_en_ascii(lettre):\n",
        "    ascii_art = {\n",
        "        'A': r\"\"\"\n",
        "         A\n",
        "        A A\n",
        "       A   A\n",
        "      AAAAAAA\n",
        "     A       A\n",
        "    A         A\n",
        "   A           A\n",
        "  A             A\n",
        " A               A\n",
        "\"\"\",\n",
        "        'B': r\"\"\"\n",
        " BBBBBBB\n",
        " B      B\n",
        " B      B\n",
        " BBBBBBB\n",
        " B      B\n",
        " B      B\n",
        " B      B\n",
        " BBBBBBB\n",
        "\"\"\",\n",
        "        # Ajoutez d'autres lettres selon vos besoins\n",
        "    }\n",
        "\n",
        "    lettre_upper = lettre.upper()\n",
        "    if lettre_upper in ascii_art:\n",
        "        return ascii_art[lettre_upper]\n",
        "    else:\n",
        "        return \"Lettre non prise en charge\"\n",
        "\n",
        "# Fonction pour reconnaître l'ASCII art et renvoyer la lettre correspondante\n",
        "def ascii_en_lettre(ascii_art):\n",
        "    for lettre, art in ascii_art.items():\n",
        "        if ascii_art.strip() == art.strip():\n",
        "            return lettre\n",
        "    return \"ASCII art non reconnu\"\n",
        "\n",
        "# Exemples d'utilisation\n",
        "lettre = 'A'\n",
        "ascii_art = lettre_en_ascii(lettre)\n",
        "print(ascii_art)\n",
        "\n",
        "ascii_art_inconnu = \"\"\"\n",
        "   XXXX\n",
        "  X    X\n",
        " X      X\n",
        " X      X\n",
        " X      X\n",
        "  X    X\n",
        "   XXXX\n",
        "\"\"\"\n",
        "lettre_rec = ascii_en_lettre(ascii_art_inconnu)\n",
        "print(lettre_rec)\n"
      ],
      "metadata": {
        "id": "F2E15A7yWQbB"
      },
      "execution_count": null,
      "outputs": []
    },
    {
      "cell_type": "markdown",
      "source": [
        "### **Reshape String**"
      ],
      "metadata": {
        "id": "tUxjEF3sW8sa"
      }
    },
    {
      "cell_type": "code",
      "source": [
        "#x/300\n",
        "def reshape(n, line):\n",
        "    # Remove spaces from the input string\n",
        "    line = line.replace(\" \", \"\")\n",
        "\n",
        "    # Initialize an empty result string\n",
        "    res = \"\"\n",
        "\n",
        "    # Iterate through the characters in the input string\n",
        "    for i, char in enumerate(line):\n",
        "        res += char\n",
        "\n",
        "        # Check if we need to start a new line\n",
        "        if (i + 1) % n == 0:\n",
        "            res += '\\n'\n",
        "\n",
        "    # Return the formatted string without a trailing newline\n",
        "    return res.rstrip('\\n')\n",
        "\n",
        "# Examples\n",
        "print(reshape(3, \"abc de fghij\"))\n",
        "print(reshape(2, \"1 23 456\"))"
      ],
      "metadata": {
        "colab": {
          "base_uri": "https://localhost:8080/"
        },
        "id": "BUT0eJGNW_qS",
        "outputId": "ddb4212a-789a-4f35-ff44-56f66fed6945"
      },
      "execution_count": null,
      "outputs": [
        {
          "output_type": "stream",
          "name": "stdout",
          "text": [
            "abc\n",
            "def\n",
            "ghi\n",
            "j\n",
            "12\n",
            "34\n",
            "56\n"
          ]
        }
      ]
    },
    {
      "cell_type": "markdown",
      "source": [
        "### **Closest to zero**"
      ],
      "metadata": {
        "id": "6bt1IthSYxL9"
      }
    },
    {
      "cell_type": "code",
      "source": [
        "#139-150/150\n",
        "def closest_to_zero(ints):\n",
        "  res = int()\n",
        "  isSet = 0\n",
        "  for i in ints:\n",
        "    t = int(i)\n",
        "    if isset == 0 :\n",
        "      res = t\n",
        "      isSet = 1\n",
        "    if abs(t) == abs(res):\n",
        "      if t >= 0:\n",
        "        res = t\n",
        "    elif abs(t) < abs(res):\n",
        "      res = t\n",
        "  if ints == 0 or len(ints) < 1:\n",
        "    return 0\n",
        "  return res"
      ],
      "metadata": {
        "id": "_HpLLfhfY0vh"
      },
      "execution_count": null,
      "outputs": []
    },
    {
      "cell_type": "markdown",
      "source": [
        "### **Combination option in tournament**"
      ],
      "metadata": {
        "id": "VqiIicwAo2eQ"
      }
    },
    {
      "cell_type": "code",
      "source": [
        "#250/300\n",
        "def count(n):\n",
        "  res = 0\n",
        "  while n > 0:\n",
        "    res += n-1\n",
        "    n -= 1\n",
        "  return res"
      ],
      "metadata": {
        "id": "Etv3_KGwpHi5"
      },
      "execution_count": null,
      "outputs": []
    },
    {
      "cell_type": "code",
      "source": [
        "#x/300\n",
        "def count(n):\n",
        "    if n < 2:\n",
        "        return 0\n",
        "    else:\n",
        "        return (n * (n - 1)) // 2"
      ],
      "metadata": {
        "id": "mK_N45lVqsTy"
      },
      "execution_count": null,
      "outputs": []
    }
  ]
}