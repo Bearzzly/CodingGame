{
  "nbformat": 4,
  "nbformat_minor": 0,
  "metadata": {
    "colab": {
      "provenance": []
    },
    "kernelspec": {
      "name": "python3",
      "display_name": "Python 3"
    },
    "language_info": {
      "name": "python"
    }
  },
  "cells": [
    {
      "cell_type": "markdown",
      "source": [
        "### **Calcul**\n"
      ],
      "metadata": {
        "id": "rGcbOgTFrjft"
      }
    },
    {
      "cell_type": "code",
      "source": [
        "import math"
      ],
      "metadata": {
        "id": "fd6hTLh-teNQ"
      },
      "execution_count": null,
      "outputs": []
    },
    {
      "cell_type": "code",
      "execution_count": null,
      "metadata": {
        "colab": {
          "base_uri": "https://localhost:8080/"
        },
        "id": "xRVlThEGqmK9",
        "outputId": "9ce7f723-875e-46b3-b02a-a1f7adee09c1"
      },
      "outputs": [
        {
          "output_type": "execute_result",
          "data": {
            "text/plain": [
              "0"
            ]
          },
          "metadata": {},
          "execution_count": 15
        }
      ],
      "source": [
        "#return 0 if pair, 1 if impair\n",
        "245%2 # = 1\n",
        "20%2 # = 0\n",
        "\n",
        "#round closest integer\n",
        "#second parameter = nbr of decimal\n",
        "round(2/3) # = 1\n",
        "round(2/5, 2) # = 0.4\n",
        "round(2/5) # = 0\n",
        "\n",
        "#round inferior integer\n",
        "math.floor(3/2)\n",
        "\n",
        "#round inferior integer\n",
        "int(4/5) # = 0"
      ]
    },
    {
      "cell_type": "markdown",
      "source": [
        "### **Condition**"
      ],
      "metadata": {
        "id": "pjZuQhDxr-_L"
      }
    },
    {
      "cell_type": "code",
      "source": [
        "#a = condition ? value_if_true : value_if_false\n",
        "l = [\"a\",\"b\",\"c\",0]\n",
        "for i in l:\n",
        "  a = \"int\" if i == 0 else \"str\"\n",
        "  print(a)"
      ],
      "metadata": {
        "colab": {
          "base_uri": "https://localhost:8080/"
        },
        "id": "jUjZMZh9r94t",
        "outputId": "779c5d6a-16e9-41c0-974a-12da217cf320"
      },
      "execution_count": null,
      "outputs": [
        {
          "output_type": "stream",
          "name": "stdout",
          "text": [
            "str\n",
            "str\n",
            "str\n",
            "int\n"
          ]
        }
      ]
    },
    {
      "cell_type": "code",
      "source": [
        "age = 42\n",
        "majorite = \"Mineur\" if age < 18 else \"Majeur\" # = \"Majeur\"\n"
      ],
      "metadata": {
        "colab": {
          "base_uri": "https://localhost:8080/",
          "height": 35
        },
        "id": "i3qG7Q-boeAO",
        "outputId": "ff45785a-bd3c-4fff-a844-55d36a7a48b1"
      },
      "execution_count": null,
      "outputs": [
        {
          "output_type": "execute_result",
          "data": {
            "text/plain": [
              "'Majeur'"
            ],
            "application/vnd.google.colaboratory.intrinsic+json": {
              "type": "string"
            }
          },
          "metadata": {},
          "execution_count": 24
        }
      ]
    },
    {
      "cell_type": "markdown",
      "source": [
        "### **List**\n"
      ],
      "metadata": {
        "id": "4-nAkOErttaS"
      }
    },
    {
      "cell_type": "code",
      "source": [
        "#List changeable, allow duplicate, ordered\n",
        "\n",
        "# déclare / init / reassign\n",
        "l = []\n",
        "l = [1,2,3]\n",
        "\n",
        "# add element to the end of list\n",
        "l.append(4) # = [1,2,3,4]\n",
        "\n",
        "# insert at place \"0\" the value \"12\"\n",
        "l.insert(0,12) # = [12,1,2,3,4]\n",
        "\n",
        "# list's size\n",
        "len(l) # = 5\n",
        "\n",
        "#full list\n",
        "l[:] # = [12,1,2,3,4]\n",
        "\n",
        "#last elem to end\n",
        "l[-1:] # = [4]\n",
        "\n",
        "# list less last elem\n",
        "l[:-1] # = [12,1,2,3]\n",
        "\n",
        "l.insert(3, 50) # = [12, 1, 2, 50, 3, 4]\n",
        "\n",
        "#biggest value of list\n",
        "max(l) # = 50\n",
        "\n",
        "#smallest value of list\n",
        "min(l) # = 1\n",
        "\n",
        "# return index of biggesr value\n",
        "l.index(max(l)) # = 3\n",
        "\n",
        "# delete index 3\n",
        "del l[3] # [12, 1, 2, 50, 3, 4] => [12, 1, 2, 3, 4]\n",
        "\n",
        "\n"
      ],
      "metadata": {
        "id": "Dpn--noEt-CK"
      },
      "execution_count": null,
      "outputs": []
    },
    {
      "cell_type": "markdown",
      "source": [
        "List of string"
      ],
      "metadata": {
        "id": "9bZ_KHGAyUjW"
      }
    },
    {
      "cell_type": "code",
      "source": [
        "# List to String\n",
        "t = ['H','e','l','l','o']\n",
        "res = ''.join(t) # = 'Hello'\n"
      ],
      "metadata": {
        "colab": {
          "base_uri": "https://localhost:8080/",
          "height": 35
        },
        "id": "p9hQnH5HyS-u",
        "outputId": "456711ba-aa93-40e8-b070-178591da1fe2"
      },
      "execution_count": null,
      "outputs": [
        {
          "output_type": "execute_result",
          "data": {
            "text/plain": [
              "'Hello'"
            ],
            "application/vnd.google.colaboratory.intrinsic+json": {
              "type": "string"
            }
          },
          "metadata": {},
          "execution_count": 1
        }
      ]
    },
    {
      "cell_type": "markdown",
      "source": [
        "### **Text manipulation**\n"
      ],
      "metadata": {
        "id": "vixwgEVfxufr"
      }
    },
    {
      "cell_type": "code",
      "source": [
        "t = \"Hello World ! \"\n",
        "\n",
        "# minuscule\n",
        "t.lower() # = \"hello world ! \"\n",
        "\n",
        "# majuscule\n",
        "t.upper() # = \"HELLO WORLD !  \"\n",
        "\n",
        "#return ascii value\n",
        "ord('A') # = 65\n"
      ],
      "metadata": {
        "colab": {
          "base_uri": "https://localhost:8080/"
        },
        "id": "UX1HIIqPxqVT",
        "outputId": "8310ca63-6e9e-4c8d-f11c-e0b3dbabc124"
      },
      "execution_count": null,
      "outputs": [
        {
          "output_type": "execute_result",
          "data": {
            "text/plain": [
              "65"
            ]
          },
          "metadata": {},
          "execution_count": 18
        }
      ]
    },
    {
      "cell_type": "markdown",
      "source": [
        "### **Boucles**"
      ],
      "metadata": {
        "id": "9zoIX3uOfDL_"
      }
    },
    {
      "cell_type": "code",
      "source": [
        "i = 0\n",
        "x = 11\n",
        "while (i <= 10 and i%2 == 0) or i == 11: # tant que (i est <= 10 ET pair) OU i == 11\n",
        "  print(i)\n",
        "  i +=2\n"
      ],
      "metadata": {
        "colab": {
          "base_uri": "https://localhost:8080/"
        },
        "id": "w3OhRRy8fGMr",
        "outputId": "da8d06d3-d339-4a47-9f61-2e0505188c4e"
      },
      "execution_count": null,
      "outputs": [
        {
          "output_type": "stream",
          "name": "stdout",
          "text": [
            "0\n",
            "2\n",
            "4\n",
            "6\n",
            "8\n",
            "10\n"
          ]
        }
      ]
    },
    {
      "cell_type": "code",
      "source": [
        "ln = [0,1,2,3,4,5,6]\n",
        "ll = [\"a\",\"b\",\"c\",\"d\",\"e\",\"f\",\"g\"]\n",
        "\n",
        "# l == lettre\n",
        "# i == index\n",
        "for i, l in enumerate(ll):\n",
        "  print(str(i) + l)\n"
      ],
      "metadata": {
        "colab": {
          "base_uri": "https://localhost:8080/"
        },
        "id": "tnI0-Sd2hF4C",
        "outputId": "f36db155-8078-4ee3-cf07-efd2ed469133"
      },
      "execution_count": null,
      "outputs": [
        {
          "output_type": "stream",
          "name": "stdout",
          "text": [
            "0a\n",
            "1b\n",
            "2c\n",
            "3d\n",
            "4e\n",
            "5f\n",
            "6g\n"
          ]
        }
      ]
    },
    {
      "cell_type": "markdown",
      "source": [
        "### **MAP**"
      ],
      "metadata": {
        "id": "UuMnEb5qxCxb"
      }
    },
    {
      "cell_type": "code",
      "source": [
        "#apply the same algorithm to all elements\n",
        "nbr = [10, 15, 21, 33, 42, 55]\n",
        "map_nbr = list(map(lambda x: x * 2 + 3, nbr)) #every value = *2+3\n",
        "map_nbr # = [23, 33, 45, 69, 87, 113]\n",
        "\n"
      ],
      "metadata": {
        "colab": {
          "base_uri": "https://localhost:8080/"
        },
        "id": "u7A8udlDxFju",
        "outputId": "2c4b8563-3806-4954-d77e-86e652163fbc"
      },
      "execution_count": 2,
      "outputs": [
        {
          "output_type": "execute_result",
          "data": {
            "text/plain": [
              "[23, 33, 45, 69, 87, 113]"
            ]
          },
          "metadata": {},
          "execution_count": 2
        }
      ]
    },
    {
      "cell_type": "markdown",
      "source": [
        "### **SET**"
      ],
      "metadata": {
        "id": "ynY4jA7NyTyo"
      }
    },
    {
      "cell_type": "code",
      "source": [
        "# Unordered (pas d'index ni d'ordre)\n",
        "# Unchangeable (pas de modification des valeurs)\n",
        "# No Duplicate\n",
        "# multi type\n",
        "# True & 1 is the same value\n",
        "fruit = {\"apple\", \"banana\", \"cherry\", \"apple\", 8, True, 1}\n",
        "fruit # {'apple', 'banana', 'cherry'}\n",
        "\n"
      ],
      "metadata": {
        "colab": {
          "base_uri": "https://localhost:8080/"
        },
        "id": "qO8ona69yTKg",
        "outputId": "b22d8507-2b2d-4a2e-f711-014b38dc4f10"
      },
      "execution_count": 7,
      "outputs": [
        {
          "output_type": "execute_result",
          "data": {
            "text/plain": [
              "{8, True, 'apple', 'banana', 'cherry'}"
            ]
          },
          "metadata": {},
          "execution_count": 7
        }
      ]
    },
    {
      "cell_type": "markdown",
      "source": [
        "### **Tuples**"
      ],
      "metadata": {
        "id": "rUm7eYIB1da8"
      }
    },
    {
      "cell_type": "code",
      "source": [
        "# Ordered, Unchangeable, allow duplicate .\n",
        "# Unchangeable = cannot change, add or remove items\n",
        "tuple1 = (\"abc\", 34, True, 40, \"male\", 40)\n",
        "tuple1\n",
        "\n"
      ],
      "metadata": {
        "colab": {
          "base_uri": "https://localhost:8080/"
        },
        "id": "OOXtnZx_1fwU",
        "outputId": "460d2687-59e0-4305-e43f-af75817630a6"
      },
      "execution_count": 8,
      "outputs": [
        {
          "output_type": "execute_result",
          "data": {
            "text/plain": [
              "('abc', 34, True, 40, 'male', 40)"
            ]
          },
          "metadata": {},
          "execution_count": 8
        }
      ]
    },
    {
      "cell_type": "markdown",
      "source": [
        "### **Dictionnaires**"
      ],
      "metadata": {
        "id": "Wv-AMKJI5TCl"
      }
    },
    {
      "cell_type": "code",
      "source": [
        "#Ordered & Desordered\n",
        "# Items have a defined order, and that order will not change\n",
        "# But u cant use index !\n",
        "# Changeable\n",
        "# NO Duplicate\n",
        "\n",
        "rdict = {\n",
        "  \"brand\": \"Ford\",\n",
        "  \"model\": \"Mustang\",\n",
        "  \"year\": 1964\n",
        "}\n",
        "print(rdict[\"brand\"])"
      ],
      "metadata": {
        "colab": {
          "base_uri": "https://localhost:8080/"
        },
        "id": "Ex_DcAJI5SvC",
        "outputId": "078fa13d-1841-4401-8edc-8a9e98caae0f"
      },
      "execution_count": 9,
      "outputs": [
        {
          "output_type": "stream",
          "name": "stdout",
          "text": [
            "Ford\n"
          ]
        }
      ]
    },
    {
      "cell_type": "code",
      "source": [
        "thisdict = {\n",
        "  \"brand\": \"Ford\",\n",
        "  \"model\": \"Mustang\",\n",
        "  \"year\": 1964,\n",
        "  \"year\": 2020\n",
        "}\n",
        "print(thisdict) # = {'brand': 'Ford', 'model': 'Mustang', 'year': 2020}\n",
        "# no duplicate, only last year pop"
      ],
      "metadata": {
        "colab": {
          "base_uri": "https://localhost:8080/"
        },
        "id": "frahILoE6sSm",
        "outputId": "9ea4f135-0a04-4139-f98e-e05293413e74"
      },
      "execution_count": 10,
      "outputs": [
        {
          "output_type": "stream",
          "name": "stdout",
          "text": [
            "{'brand': 'Ford', 'model': 'Mustang', 'year': 2020}\n"
          ]
        }
      ]
    },
    {
      "cell_type": "code",
      "source": [
        "   factoriel"
      ],
      "metadata": {
        "id": "mq7e7kTu-cyu"
      },
      "execution_count": null,
      "outputs": []
    }
  ]
}