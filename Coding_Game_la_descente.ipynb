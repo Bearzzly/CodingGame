{
  "nbformat": 4,
  "nbformat_minor": 0,
  "metadata": {
    "colab": {
      "provenance": []
    },
    "kernelspec": {
      "name": "python3",
      "display_name": "Python 3"
    },
    "language_info": {
      "name": "python"
    }
  },
  "cells": [
    {
      "cell_type": "code",
      "execution_count": 9,
      "metadata": {
        "colab": {
          "base_uri": "https://localhost:8080/"
        },
        "id": "51H5feXDKBDA",
        "outputId": "e3b4d8b9-2fe1-4484-abb0-2e4de5428aed"
      },
      "outputs": [
        {
          "output_type": "stream",
          "name": "stdout",
          "text": [
            "[3, 12, 9, 12]\n",
            "12\n",
            "1\n"
          ]
        },
        {
          "output_type": "execute_result",
          "data": {
            "text/plain": [
              "[3, 9, 12]"
            ]
          },
          "metadata": {},
          "execution_count": 9
        }
      ],
      "source": [
        "m_list = []\n",
        "m_list.append(3)\n",
        "m_list.append(12)\n",
        "m_list.append(9)\n",
        "m_list.append(12)\n",
        "print(m_list)\n",
        "print(max(m_list))\n",
        "print(m_list.index(max(m_list)))\n",
        "del m_list[1]\n",
        "m_list\n"
      ]
    },
    {
      "cell_type": "code",
      "source": [
        "#TEST1\n",
        "index = 0\n",
        "\n",
        "# game loop\n",
        "while True:\n",
        "    for i in range(8):\n",
        "        mountain_h = int(input())  #donne les tailles des montagnes dans l'ordre\n",
        "    print(str(index)) #print les montagnes dans l'ordre\n",
        "    index+=1"
      ],
      "metadata": {
        "id": "_HOONWm0Qngx"
      },
      "execution_count": null,
      "outputs": []
    },
    {
      "cell_type": "code",
      "source": [
        "#TEST2\n",
        "index = 0\n",
        "m_list = []\n",
        "m_list2 = []\n",
        "order = []\n",
        "\n",
        "#liste les hauteurs\n",
        "for i in range(8):\n",
        "    mountain_h = int(input())  #donne les tailles des montagnes dans l'ordre\n",
        "    m_list.append(mountain_h)\n",
        "\n",
        "#tableau à deux entrées, size/index\n",
        "for i in range(8):\n",
        "  m_list2.append([m_list[i],i])\n",
        "\n",
        "#trie des index basé sur la hauteur des montagnes\n",
        "order = sorted(m_list2, key=lambda x:x[0], reverse=True)\n",
        "\n",
        "# game loop\n",
        "while True:\n",
        "    print(str(order[index][1]))\n",
        "    index+=1\n"
      ],
      "metadata": {
        "id": "k6cbmWKubpFz"
      },
      "execution_count": null,
      "outputs": []
    },
    {
      "cell_type": "code",
      "source": [
        "#TEST3 + VALIDATION COMPLETE\n",
        "while True:\n",
        "    l=[]#recréer une liste vide\n",
        "    for i in range(8):\n",
        "        mountain_h = int(input())  #donne les tailles des montagnes dans l'ordre\n",
        "        l.append(mountain_h) #ajoute les tailles des montagnes à la liste\n",
        "    print(l.index(max(l))) #print l'index de la montagne la plus grande"
      ],
      "metadata": {
        "id": "yquZN8Kjhpnz"
      },
      "execution_count": null,
      "outputs": []
    },
    {
      "cell_type": "code",
      "source": [
        "l2 = [9, 8, 7, 3, 6, 5, 2, 4, 3]\n",
        "l22 = []\n",
        "index = 0\n",
        "for i in range(8):\n",
        "  l22.append([l2[i],i])\n",
        "print(l22)\n",
        "sorted(l22, key=lambda x:x[0], reverse=True)\n",
        "\n",
        "\n"
      ],
      "metadata": {
        "colab": {
          "base_uri": "https://localhost:8080/"
        },
        "id": "3tvm25MvQktC",
        "outputId": "01f5d32d-dbae-4405-be33-1a8607dbbd6c"
      },
      "execution_count": 26,
      "outputs": [
        {
          "output_type": "stream",
          "name": "stdout",
          "text": [
            "[[9, 0], [8, 1], [7, 2], [3, 3], [6, 4], [5, 5], [2, 6], [4, 7]]\n"
          ]
        },
        {
          "output_type": "execute_result",
          "data": {
            "text/plain": [
              "[[9, 0], [8, 1], [7, 2], [6, 4], [5, 5], [4, 7], [3, 3], [2, 6]]"
            ]
          },
          "metadata": {},
          "execution_count": 26
        }
      ]
    }
  ]
}