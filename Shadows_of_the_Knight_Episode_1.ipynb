{
  "nbformat": 4,
  "nbformat_minor": 0,
  "metadata": {
    "colab": {
      "provenance": []
    },
    "kernelspec": {
      "name": "python3",
      "display_name": "Python 3"
    },
    "language_info": {
      "name": "python"
    }
  },
  "cells": [
    {
      "cell_type": "markdown",
      "source": [
        "Shadows of the Knight - Episode 1\n",
        "https://www.codingame.com/ide/puzzle/shadows-of-the-knight-episode-1\n",
        "by Bearzly\n",
        "\n",
        "> Bloc en retrait\n",
        "\n"
      ],
      "metadata": {
        "id": "PhbcYEFbvBSo"
      }
    },
    {
      "cell_type": "code",
      "execution_count": 2,
      "metadata": {
        "colab": {
          "base_uri": "https://localhost:8080/"
        },
        "id": "ZEqa-vmCu_ui",
        "outputId": "36e39a50-7a48-447e-da69-0bb9a85b6c83"
      },
      "outputs": [
        {
          "output_type": "execute_result",
          "data": {
            "text/plain": [
              "2"
            ]
          },
          "metadata": {},
          "execution_count": 2
        }
      ],
      "source": [
        "t = \"ex\"\n",
        "len (t)"
      ]
    },
    {
      "cell_type": "code",
      "source": [
        "A = 3\n",
        "B = 5\n",
        "B -= 1; A -= 1\n",
        "B"
      ],
      "metadata": {
        "colab": {
          "base_uri": "https://localhost:8080/"
        },
        "id": "VT9Wmvk4liAu",
        "outputId": "5e67a1c9-d805-428b-990b-716b99a4d730"
      },
      "execution_count": 6,
      "outputs": [
        {
          "output_type": "execute_result",
          "data": {
            "text/plain": [
              "4"
            ]
          },
          "metadata": {},
          "execution_count": 6
        }
      ]
    },
    {
      "cell_type": "code",
      "source": [
        "  def calcborder() :\n",
        "    border = [] #distance from border\n",
        "    border.append([1,2,3])\n",
        "    border.append([4,5,6])\n",
        "    border.append([7,8,9])\n",
        "    return border\n",
        "\n",
        "  print(calcborder()[2][2])"
      ],
      "metadata": {
        "colab": {
          "base_uri": "https://localhost:8080/"
        },
        "id": "JtNLnLkKvlVi",
        "outputId": "b6c772e0-9879-4b60-8ff4-8ee31b1d8f78"
      },
      "execution_count": 20,
      "outputs": [
        {
          "output_type": "stream",
          "name": "stdout",
          "text": [
            "9\n"
          ]
        }
      ]
    },
    {
      "cell_type": "code",
      "source": [
        "int(round(5/2, 0))"
      ],
      "metadata": {
        "colab": {
          "base_uri": "https://localhost:8080/"
        },
        "id": "G1FHyVvAzVSt",
        "outputId": "c8e2e4be-57a1-4190-fa07-008951f3dc40"
      },
      "execution_count": 24,
      "outputs": [
        {
          "output_type": "execute_result",
          "data": {
            "text/plain": [
              "2"
            ]
          },
          "metadata": {},
          "execution_count": 24
        }
      ]
    },
    {
      "cell_type": "code",
      "source": [
        "a = 2\n",
        "b = 10\n",
        "result = lambda x : f\"{x} is even\" if x %2==0 else f\"{x} is odd\""
      ],
      "metadata": {
        "id": "eazlnne95Orq"
      },
      "execution_count": null,
      "outputs": []
    },
    {
      "cell_type": "code",
      "source": [
        "maxi = lambda a, b : a if(a > b) else b\n",
        "maxi(58,4)"
      ],
      "metadata": {
        "colab": {
          "base_uri": "https://localhost:8080/"
        },
        "id": "YsxlEvCy6MBM",
        "outputId": "873c0057-5c3a-4675-b858-21d592448176"
      },
      "execution_count": 25,
      "outputs": [
        {
          "output_type": "execute_result",
          "data": {
            "text/plain": [
              "58"
            ]
          },
          "metadata": {},
          "execution_count": 25
        }
      ]
    },
    {
      "cell_type": "code",
      "source": [
        "import sys\n",
        "import math\n",
        "\n",
        "# Auto-generated code below aims at helping you parse\n",
        "# the standard input according to the problem statement.\n",
        "\n",
        "w, h = [int(i) for i in input().split()] #Width/height\n",
        "n = int(input())  # maximum number of turns before game over.\n",
        "x, y = [int(i) for i in input().split()] #start postion\n",
        "xs = int(w/2)\n",
        "ys = int(h/2)\n",
        "\n",
        "#TEST\n",
        "x = 0\n",
        "y = 0+79\n",
        "\n",
        "def calcborder():\n",
        "    border = [] #distance from border\n",
        "    mini = lambda a, b : a if(a < b) else b #use this for corners !\n",
        "    border.append([0,y,0])\n",
        "    border.append([x,0,w-x-1])\n",
        "    border.append([0,h-y-1,0])\n",
        "    return border\n",
        "\n",
        "for i in calcborder():\n",
        "    print(str(i[0]) + \" \" + str(i[1]) + \" \"  + str(i[2]), file=sys.stderr, flush=True)\n",
        "\n",
        "def shorter(val):\n",
        "    if val > 1:\n",
        "        return val - 1\n",
        "    return val\n",
        "\n",
        "print(str(w) + \" \" + str(h), file=sys.stderr, flush=True)\n",
        "#print(str(x) + \" \" + str(y), file=sys.stderr, flush=True)\n",
        "\n",
        "# game loop\n",
        "while True:\n",
        "    bomb_dir = input()  # the direction of the bombs from batman's current location (U, UR, R, DR, D, DL, L or UL)\n",
        "    print(\"0 79\")\n",
        "    if bomb_dir == \"UR\":\n",
        "        y -= ys; x += xs\n",
        "    elif bomb_dir == \"DR\":\n",
        "        y += ys; x += xs\n",
        "    elif bomb_dir == \"DL\":\n",
        "        y += ys; x -= xs\n",
        "    elif bomb_dir == \"UL\":\n",
        "        y -= ys; x -= xs\n",
        "    elif bomb_dir == \"U\":\n",
        "        y -= ys;\n",
        "    elif bomb_dir == \"D\":\n",
        "        y += ys\n",
        "    elif bomb_dir == \"L\":\n",
        "        x -= xs\n",
        "    elif bomb_dir == \"R\":\n",
        "        x += xs\n",
        "\n",
        "\n"
      ],
      "metadata": {
        "id": "53E48iGV6nDw"
      },
      "execution_count": null,
      "outputs": []
    }
  ]
}