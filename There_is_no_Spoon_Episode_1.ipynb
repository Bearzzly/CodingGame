{
  "nbformat": 4,
  "nbformat_minor": 0,
  "metadata": {
    "colab": {
      "provenance": []
    },
    "kernelspec": {
      "name": "python3",
      "display_name": "Python 3"
    },
    "language_info": {
      "name": "python"
    }
  },
  "cells": [
    {
      "cell_type": "code",
      "execution_count": null,
      "metadata": {
        "id": "dFXblC2JoRt1"
      },
      "outputs": [],
      "source": [
        "#TEST 1\n",
        "# need long distance code\n",
        "import sys\n",
        "import math\n",
        "\n",
        "# Don't let the machines win. You are humanity's last hope...\n",
        "\n",
        "width = int(input())  # the number of cells on the X axis\n",
        "height = int(input())  # the number of cells on the Y axis\n",
        "tab = []\n",
        "\n",
        "# Creation of the data table\n",
        "for i in range(height):\n",
        "    line = input()  # width characters, each either 0 or .\n",
        "    l = []\n",
        "    for e in line:\n",
        "        l.append(e)\n",
        "    tab.append(l)\n",
        "\n",
        "print(tab, file=sys.stderr, flush=True)\n",
        "print(width, file=sys.stderr, flush=True)\n",
        "print(height, file=sys.stderr, flush=True)\n",
        "\n",
        "# BEWARE\n",
        "# This is not marked in the instructions but there may be \".\" between two \"0\"\n",
        "# I need to create mecanic for long distance node\n",
        "for idx, l in enumerate(tab):\n",
        "    for i, c in enumerate(l):\n",
        "        if '.' not in c:\n",
        "            r = str(i+1) + \" \" + str(idx) if i+1 < width and l[i+1] == '0' else \"-1 -1\"\n",
        "            d = str(i) + \" \" + str(idx+1) if idx+1 < height and tab[idx+1][i] == '0' else \"-1 -1\"\n",
        "            res = str(i) + \" \" + str(idx) + \" \" + r + \" \" + d\n",
        "            print(res)\n",
        "\n",
        "\n",
        "# Three coordinates: a node, its right neighbor, its bottom neighbor\n",
        "print(\"0 0 2 0 -1 -1\")\n",
        "print(\"2 0 4 0 -1 -1\")\n",
        "print(\"4 0 -1 -1 -1 -1\")\n",
        "#print(\"1 0 -1 -1 -1 -1\")\n",
        "#print(\"0 1 -1 -1 -1 -1\")"
      ]
    }
  ]
}